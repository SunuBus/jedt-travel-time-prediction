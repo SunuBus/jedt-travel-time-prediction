{
  "nbformat": 4,
  "nbformat_minor": 0,
  "metadata": {
    "colab": {
      "name": "JEDT_TravelTime_Prediction_Presentation.ipynb",
      "version": "0.3.2",
      "provenance": [],
      "collapsed_sections": [],
      "toc_visible": true
    },
    "kernelspec": {
      "name": "python3",
      "display_name": "Python 3"
    }
  },
  "cells": [
    {
      "cell_type": "markdown",
      "metadata": {
        "id": "7rEOqXa6rSj4",
        "colab_type": "text"
      },
      "source": [
        "# **JEDT Workshops | | 06/07/2019**"
      ]
    },
    {
      "cell_type": "markdown",
      "metadata": {
        "id": "Pjk52R-Gr_PV",
        "colab_type": "text"
      },
      "source": [
        "# **Bus Travel Time Prediction || Scikit-Learn/XGBoost || Regression problem**"
      ]
    },
    {
      "cell_type": "markdown",
      "metadata": {
        "id": "Nlc-F5ME3Lv5",
        "colab_type": "text"
      },
      "source": [
        "**INTRODUCTION**"
      ]
    },
    {
      "cell_type": "markdown",
      "metadata": {
        "id": "lOz0HUAcsO_H",
        "colab_type": "text"
      },
      "source": [
        "Hey Hey ! 😊Bienvenue dans ce super mega excitant workshop ! Aujourd'hui nous allons apprendre à utiliser Scikit-Learn et XGBoost avec le jeu de données contenant des informations de voyage de la ligne 71 pour prédire le temps de trajet entre deux positions."
      ]
    },
    {
      "cell_type": "markdown",
      "metadata": {
        "id": "DvmeZFHpswV-",
        "colab_type": "text"
      },
      "source": [
        "Are You Reaaaaaaaady ! Set ! Go ! 🤤🤤🤤🤤"
      ]
    },
    {
      "cell_type": "markdown",
      "metadata": {
        "id": "rlIQruAks70L",
        "colab_type": "text"
      },
      "source": [
        "![alt text](http://s2.favim.com/orig/28/adtr-gif-jeremy-lets-go-Favim.com-231282.gif)\n"
      ]
    },
    {
      "cell_type": "markdown",
      "metadata": {
        "id": "-JvpxLrE3ZjU",
        "colab_type": "text"
      },
      "source": [
        "**MACHINE LEARNING**"
      ]
    },
    {
      "cell_type": "markdown",
      "metadata": {
        "id": "lVUK5eeyw6N3",
        "colab_type": "text"
      },
      "source": [
        " ***Alors commençons d'abord par un peu de théorie!\n",
        "Et si on commencait par les bases?*** "
      ]
    },
    {
      "cell_type": "markdown",
      "metadata": {
        "id": "gIsYSqXcx1Ve",
        "colab_type": "text"
      },
      "source": [
        "Great let's talk about Machine Learning!\n",
        "\n",
        "Le Machine Learning, sous-domaine de l’Intelligence Artificielle, est l’ensemble des techniques qui fournit la capacité d’apprentissage à un système informatique. Il consiste donc donner à la machine la capacité d'éxécuter des taches(apprendre) sans etre explicitement programmé.\n",
        "Il existe principalement 4 types d'apprentissage en Machine Learning :\n",
        "- Apprentissage supervisé (Supervised learning)\n",
        "- Apprentissage semi-supervisé (Semi Supervised Learning)\n",
        "- Apprentissage non supervisé (Unsupervised learning)\n",
        "- Apprentissage par  renforcement(Reinforcement learning)\n",
        "\n",
        "\n",
        "\n",
        "\n"
      ]
    },
    {
      "cell_type": "markdown",
      "metadata": {
        "id": "gTu6Ky4O3JOZ",
        "colab_type": "text"
      },
      "source": [
        "**SUPERVISED VS UNSUPERVISED**\n",
        "![alt text](https://blog.westerndigital.com/wp-content/uploads/2018/05/supervised-learning-diagram.jpg)"
      ]
    },
    {
      "cell_type": "markdown",
      "metadata": {
        "id": "9J2m0Vyj3rjl",
        "colab_type": "text"
      },
      "source": [
        "**DOMAINES D'APPLICATION**\n",
        " \n",
        "Il existe une multitude d'applications du machine learning, on peut en citer entre autres:\n",
        "-  Reconnaissance Faciale(Face Recognition)\n",
        "-  Reconnaissance vocale(Speech recognition)\n",
        "-  Diagnostic médical(Medical Dagnosis)\n",
        "etc...\n"
      ]
    },
    {
      "cell_type": "markdown",
      "metadata": {
        "id": "xSXZajlB_AA_",
        "colab_type": "text"
      },
      "source": [
        "**PROCESSUS DE DÉVELOPPEMENT**\n",
        "\n",
        "Comment mener à bien un projet de machine learning?\n",
        "Il existe des processus de développement décrivant les différents phases que doit comporter un projet Machine Learning. On peut citer par exemple KDD(Knowledge Discovering in Databases), CRISP DM(Cross Industry Standard Process for Data Mining) , SEMMA(Sample, Explore, Modify, Model and Assess) etc.\n"
      ]
    },
    {
      "cell_type": "markdown",
      "metadata": {
        "id": "ANsQ6taHArKj",
        "colab_type": "text"
      },
      "source": [
        "***Alors vous etes pret à entrer dans le vif du sujet ?***\n",
        "\n",
        "Alors on va un peu parler du projet à mettre en place!\n",
        "L'obejctif du workshop d'aujourd'hui est de mettre en place un modèle Machine Learning qui va prédire le temps de trajet pour un voyage.\n",
        "On va faire un petite présentation des outils que nous allons utiliser.\n",
        "- Scikit-Learn:\n",
        "- XGBoost\n",
        "- Pandas"
      ]
    },
    {
      "cell_type": "markdown",
      "metadata": {
        "id": "SNFxb0l737o_",
        "colab_type": "text"
      },
      "source": [
        "**LIVE DEMO**"
      ]
    },
    {
      "cell_type": "markdown",
      "metadata": {
        "id": "F1ATJkBsC28K",
        "colab_type": "text"
      },
      "source": [
        "Hey Talk is cheap , show the code!"
      ]
    },
    {
      "cell_type": "markdown",
      "metadata": {
        "id": "hXlTLUgtDu0v",
        "colab_type": "text"
      },
      "source": [
        "***Installons d'abord quelques dépendances***"
      ]
    },
    {
      "cell_type": "code",
      "metadata": {
        "id": "anbx5xCoDbiM",
        "colab_type": "code",
        "outputId": "6adec0e3-e848-4d30-8f0f-4dacdf1bfe30",
        "colab": {
          "base_uri": "https://localhost:8080/",
          "height": 360
        }
      },
      "source": [
        "!pip install haversine\n",
        "!pip install xgboost\n",
        "!pip install dython"
      ],
      "execution_count": 10,
      "outputs": [
        {
          "output_type": "stream",
          "text": [
            "Requirement already satisfied: haversine in /usr/local/lib/python3.6/dist-packages (2.1.1)\n",
            "Requirement already satisfied: xgboost in /usr/local/lib/python3.6/dist-packages (0.90)\n",
            "Requirement already satisfied: numpy in /usr/local/lib/python3.6/dist-packages (from xgboost) (1.16.4)\n",
            "Requirement already satisfied: scipy in /usr/local/lib/python3.6/dist-packages (from xgboost) (1.3.0)\n",
            "Requirement already satisfied: dython in /usr/local/lib/python3.6/dist-packages (0.2.0)\n",
            "Requirement already satisfied: pandas in /usr/local/lib/python3.6/dist-packages (from dython) (0.24.2)\n",
            "Requirement already satisfied: seaborn in /usr/local/lib/python3.6/dist-packages (from dython) (0.9.0)\n",
            "Requirement already satisfied: numpy in /usr/local/lib/python3.6/dist-packages (from dython) (1.16.4)\n",
            "Requirement already satisfied: scikit-learn in /usr/local/lib/python3.6/dist-packages (from dython) (0.21.2)\n",
            "Requirement already satisfied: scipy in /usr/local/lib/python3.6/dist-packages (from dython) (1.3.0)\n",
            "Requirement already satisfied: matplotlib in /usr/local/lib/python3.6/dist-packages (from dython) (3.0.3)\n",
            "Requirement already satisfied: python-dateutil>=2.5.0 in /usr/local/lib/python3.6/dist-packages (from pandas->dython) (2.5.3)\n",
            "Requirement already satisfied: pytz>=2011k in /usr/local/lib/python3.6/dist-packages (from pandas->dython) (2018.9)\n",
            "Requirement already satisfied: joblib>=0.11 in /usr/local/lib/python3.6/dist-packages (from scikit-learn->dython) (0.13.2)\n",
            "Requirement already satisfied: kiwisolver>=1.0.1 in /usr/local/lib/python3.6/dist-packages (from matplotlib->dython) (1.1.0)\n",
            "Requirement already satisfied: pyparsing!=2.0.4,!=2.1.2,!=2.1.6,>=2.0.1 in /usr/local/lib/python3.6/dist-packages (from matplotlib->dython) (2.4.0)\n",
            "Requirement already satisfied: cycler>=0.10 in /usr/local/lib/python3.6/dist-packages (from matplotlib->dython) (0.10.0)\n",
            "Requirement already satisfied: six>=1.5 in /usr/local/lib/python3.6/dist-packages (from python-dateutil>=2.5.0->pandas->dython) (1.12.0)\n",
            "Requirement already satisfied: setuptools in /usr/local/lib/python3.6/dist-packages (from kiwisolver>=1.0.1->matplotlib->dython) (41.0.1)\n"
          ],
          "name": "stdout"
        }
      ]
    },
    {
      "cell_type": "code",
      "metadata": {
        "id": "XU-_oRTmDCJk",
        "colab_type": "code",
        "colab": {}
      },
      "source": [
        "import io\n",
        "from google.colab import files\n",
        "import pandas as pd\n",
        "import matplotlib.pyplot as plt\n",
        "import numpy as np\n",
        "from pandas.plotting import scatter_matrix\n",
        "import xgboost as xgb\n",
        "from sklearn.model_selection import train_test_split\n",
        "from haversine import haversine\n",
        "from sklearn.ensemble import RandomForestRegressor,ExtraTreesRegressor,forest\n",
        "from sklearn.linear_model import LinearRegression\n",
        "from sklearn.metrics import r2_score\n",
        "from haversine import haversine\n",
        "from dython.nominal import associations\n",
        "from sklearn.utils import shuffle"
      ],
      "execution_count": 0,
      "outputs": []
    },
    {
      "cell_type": "markdown",
      "metadata": {
        "id": "dIHMlYxeEKtV",
        "colab_type": "text"
      },
      "source": [
        "Importation du jeu de données en l'occurence le fichier \"data_new.csv\""
      ]
    },
    {
      "cell_type": "code",
      "metadata": {
        "id": "OY9KLk_fuxjf",
        "colab_type": "code",
        "outputId": "5584b1c6-b053-4f80-fa85-f82541de4df7",
        "colab": {
          "resources": {
            "http://localhost:8080/nbextensions/google.colab/files.js": {
              "data": "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",
              "ok": true,
              "headers": [
                [
                  "content-type",
                  "application/javascript"
                ]
              ],
              "status": 200,
              "status_text": ""
            }
          },
          "base_uri": "https://localhost:8080/",
          "height": 71
        }
      },
      "source": [
        "uploaded = files.upload()"
      ],
      "execution_count": 31,
      "outputs": [
        {
          "output_type": "display_data",
          "data": {
            "text/html": [
              "\n",
              "     <input type=\"file\" id=\"files-77df9428-e1da-41eb-9682-796cdf4968cd\" name=\"files[]\" multiple disabled />\n",
              "     <output id=\"result-77df9428-e1da-41eb-9682-796cdf4968cd\">\n",
              "      Upload widget is only available when the cell has been executed in the\n",
              "      current browser session. Please rerun this cell to enable.\n",
              "      </output>\n",
              "      <script src=\"/nbextensions/google.colab/files.js\"></script> "
            ],
            "text/plain": [
              "<IPython.core.display.HTML object>"
            ]
          },
          "metadata": {
            "tags": []
          }
        },
        {
          "output_type": "stream",
          "text": [
            "Saving data_new.csv to data_new (1).csv\n"
          ],
          "name": "stdout"
        }
      ]
    },
    {
      "cell_type": "markdown",
      "metadata": {
        "id": "CnRals_XEck6",
        "colab_type": "text"
      },
      "source": [
        "***Chargement du jeu données dans un dataframe***"
      ]
    },
    {
      "cell_type": "code",
      "metadata": {
        "id": "gEpLT6EapAb3",
        "colab_type": "code",
        "outputId": "51e2a6ea-7abe-4170-9192-665847d980a4",
        "colab": {
          "base_uri": "https://localhost:8080/",
          "height": 204
        }
      },
      "source": [
        "data = pd.read_csv(io.StringIO(uploaded['data_new.csv'].decode('utf-8')),parse_dates=['datetime'])\n",
        "data.head()"
      ],
      "execution_count": 32,
      "outputs": [
        {
          "output_type": "execute_result",
          "data": {
            "text/html": [
              "<div>\n",
              "<style scoped>\n",
              "    .dataframe tbody tr th:only-of-type {\n",
              "        vertical-align: middle;\n",
              "    }\n",
              "\n",
              "    .dataframe tbody tr th {\n",
              "        vertical-align: top;\n",
              "    }\n",
              "\n",
              "    .dataframe thead th {\n",
              "        text-align: right;\n",
              "    }\n",
              "</style>\n",
              "<table border=\"1\" class=\"dataframe\">\n",
              "  <thead>\n",
              "    <tr style=\"text-align: right;\">\n",
              "      <th></th>\n",
              "      <th>latitude</th>\n",
              "      <th>longitude</th>\n",
              "      <th>speed</th>\n",
              "      <th>datetime</th>\n",
              "      <th>trackingId</th>\n",
              "      <th>company</th>\n",
              "      <th>line</th>\n",
              "    </tr>\n",
              "  </thead>\n",
              "  <tbody>\n",
              "    <tr>\n",
              "      <th>0</th>\n",
              "      <td>14.696173</td>\n",
              "      <td>-17.457460</td>\n",
              "      <td>0.000000</td>\n",
              "      <td>2018-05-28 23:56:50.921000+00:00</td>\n",
              "      <td>779dbefd-0d94-450e-8971-e4ffb419e449</td>\n",
              "      <td>aftu</td>\n",
              "      <td>71</td>\n",
              "    </tr>\n",
              "    <tr>\n",
              "      <th>1</th>\n",
              "      <td>14.696170</td>\n",
              "      <td>-17.457467</td>\n",
              "      <td>0.000000</td>\n",
              "      <td>2018-05-28 23:59:27.354000+00:00</td>\n",
              "      <td>05d15c29-1fc6-4f29-beb1-b823ece21b70</td>\n",
              "      <td>aftu</td>\n",
              "      <td>71</td>\n",
              "    </tr>\n",
              "    <tr>\n",
              "      <th>2</th>\n",
              "      <td>14.696179</td>\n",
              "      <td>-17.457473</td>\n",
              "      <td>0.000000</td>\n",
              "      <td>2018-05-29 00:09:15.233000+00:00</td>\n",
              "      <td>fe38cfe5-eaab-4598-b2e9-88cb7969607a</td>\n",
              "      <td>aftu</td>\n",
              "      <td>71</td>\n",
              "    </tr>\n",
              "    <tr>\n",
              "      <th>3</th>\n",
              "      <td>14.693557</td>\n",
              "      <td>-17.459105</td>\n",
              "      <td>6.668741</td>\n",
              "      <td>2018-05-29 00:10:00.694000+00:00</td>\n",
              "      <td>fe38cfe5-eaab-4598-b2e9-88cb7969607a</td>\n",
              "      <td>aftu</td>\n",
              "      <td>71</td>\n",
              "    </tr>\n",
              "    <tr>\n",
              "      <th>4</th>\n",
              "      <td>14.692543</td>\n",
              "      <td>-17.461795</td>\n",
              "      <td>0.000000</td>\n",
              "      <td>2018-05-29 00:11:21.476000+00:00</td>\n",
              "      <td>fe38cfe5-eaab-4598-b2e9-88cb7969607a</td>\n",
              "      <td>aftu</td>\n",
              "      <td>71</td>\n",
              "    </tr>\n",
              "  </tbody>\n",
              "</table>\n",
              "</div>"
            ],
            "text/plain": [
              "    latitude  longitude  ...  company line\n",
              "0  14.696173 -17.457460  ...     aftu   71\n",
              "1  14.696170 -17.457467  ...     aftu   71\n",
              "2  14.696179 -17.457473  ...     aftu   71\n",
              "3  14.693557 -17.459105  ...     aftu   71\n",
              "4  14.692543 -17.461795  ...     aftu   71\n",
              "\n",
              "[5 rows x 7 columns]"
            ]
          },
          "metadata": {
            "tags": []
          },
          "execution_count": 32
        }
      ]
    },
    {
      "cell_type": "markdown",
      "metadata": {
        "id": "BFemDiLFIuIH",
        "colab_type": "text"
      },
      "source": [
        "***Regroupement des données***"
      ]
    },
    {
      "cell_type": "code",
      "metadata": {
        "id": "l0XzrsneI2Pb",
        "colab_type": "code",
        "colab": {}
      },
      "source": [
        "groups = data.groupby(['trackingId'])"
      ],
      "execution_count": 0,
      "outputs": []
    },
    {
      "cell_type": "markdown",
      "metadata": {
        "id": "1DZ-YGrZHm-D",
        "colab_type": "text"
      },
      "source": [
        "***Mettons en place notre jeu de données initial***"
      ]
    },
    {
      "cell_type": "code",
      "metadata": {
        "id": "U1Q9OmjvHzwI",
        "colab_type": "code",
        "outputId": "263a716e-e458-4642-eed4-8cc712b2fcf1",
        "colab": {
          "base_uri": "https://localhost:8080/",
          "height": 394
        }
      },
      "source": [
        "#create a fonction for computing cartesian product\n",
        "def cartesian_product_basic(left, right):\n",
        "    return (left.assign(key=1).merge(right.assign(key=1), on='key').drop('key', 1))\n",
        "  \n",
        "temp = []\n",
        "for keys, group in groups:\n",
        "  #computing cartesian product of differents group and store it in temp variable\n",
        "  temp.append(cartesian_product_basic(group, group))\n",
        "\n",
        "#create a dataframe to store the dataset\n",
        "dataset = pd.DataFrame(data=temp[0])\n",
        "i = 1\n",
        "while i<len(temp):\n",
        "  df = pd.DataFrame(data = temp[i])\n",
        "  dataset = pd.concat([dataset,df],axis=0,ignore_index=True)\n",
        "  i = i + 1 \n",
        "  \n",
        "dataset.head()"
      ],
      "execution_count": 34,
      "outputs": [
        {
          "output_type": "execute_result",
          "data": {
            "text/html": [
              "<div>\n",
              "<style scoped>\n",
              "    .dataframe tbody tr th:only-of-type {\n",
              "        vertical-align: middle;\n",
              "    }\n",
              "\n",
              "    .dataframe tbody tr th {\n",
              "        vertical-align: top;\n",
              "    }\n",
              "\n",
              "    .dataframe thead th {\n",
              "        text-align: right;\n",
              "    }\n",
              "</style>\n",
              "<table border=\"1\" class=\"dataframe\">\n",
              "  <thead>\n",
              "    <tr style=\"text-align: right;\">\n",
              "      <th></th>\n",
              "      <th>latitude_x</th>\n",
              "      <th>longitude_x</th>\n",
              "      <th>speed_x</th>\n",
              "      <th>datetime_x</th>\n",
              "      <th>trackingId_x</th>\n",
              "      <th>company_x</th>\n",
              "      <th>line_x</th>\n",
              "      <th>latitude_y</th>\n",
              "      <th>longitude_y</th>\n",
              "      <th>speed_y</th>\n",
              "      <th>datetime_y</th>\n",
              "      <th>trackingId_y</th>\n",
              "      <th>company_y</th>\n",
              "      <th>line_y</th>\n",
              "    </tr>\n",
              "  </thead>\n",
              "  <tbody>\n",
              "    <tr>\n",
              "      <th>0</th>\n",
              "      <td>14.76895</td>\n",
              "      <td>-17.319019</td>\n",
              "      <td>0.0</td>\n",
              "      <td>2018-07-18 10:11:05.566000+00:00</td>\n",
              "      <td>00b84e14-57f6-4319-93d0-f2fcd1f59cbf</td>\n",
              "      <td>aftu</td>\n",
              "      <td>71</td>\n",
              "      <td>14.768950</td>\n",
              "      <td>-17.319019</td>\n",
              "      <td>0.0</td>\n",
              "      <td>2018-07-18 10:11:05.566000+00:00</td>\n",
              "      <td>00b84e14-57f6-4319-93d0-f2fcd1f59cbf</td>\n",
              "      <td>aftu</td>\n",
              "      <td>71</td>\n",
              "    </tr>\n",
              "    <tr>\n",
              "      <th>1</th>\n",
              "      <td>14.76895</td>\n",
              "      <td>-17.319019</td>\n",
              "      <td>0.0</td>\n",
              "      <td>2018-07-18 10:11:05.566000+00:00</td>\n",
              "      <td>00b84e14-57f6-4319-93d0-f2fcd1f59cbf</td>\n",
              "      <td>aftu</td>\n",
              "      <td>71</td>\n",
              "      <td>14.756368</td>\n",
              "      <td>-17.324461</td>\n",
              "      <td>0.0</td>\n",
              "      <td>2018-07-18 10:12:06.873000+00:00</td>\n",
              "      <td>00b84e14-57f6-4319-93d0-f2fcd1f59cbf</td>\n",
              "      <td>aftu</td>\n",
              "      <td>71</td>\n",
              "    </tr>\n",
              "    <tr>\n",
              "      <th>2</th>\n",
              "      <td>14.76895</td>\n",
              "      <td>-17.319019</td>\n",
              "      <td>0.0</td>\n",
              "      <td>2018-07-18 10:11:05.566000+00:00</td>\n",
              "      <td>00b84e14-57f6-4319-93d0-f2fcd1f59cbf</td>\n",
              "      <td>aftu</td>\n",
              "      <td>71</td>\n",
              "      <td>14.725277</td>\n",
              "      <td>-17.296197</td>\n",
              "      <td>0.0</td>\n",
              "      <td>2018-07-18 10:14:45.083000+00:00</td>\n",
              "      <td>00b84e14-57f6-4319-93d0-f2fcd1f59cbf</td>\n",
              "      <td>aftu</td>\n",
              "      <td>71</td>\n",
              "    </tr>\n",
              "    <tr>\n",
              "      <th>3</th>\n",
              "      <td>14.76895</td>\n",
              "      <td>-17.319019</td>\n",
              "      <td>0.0</td>\n",
              "      <td>2018-07-18 10:11:05.566000+00:00</td>\n",
              "      <td>00b84e14-57f6-4319-93d0-f2fcd1f59cbf</td>\n",
              "      <td>aftu</td>\n",
              "      <td>71</td>\n",
              "      <td>14.748355</td>\n",
              "      <td>-17.325661</td>\n",
              "      <td>0.0</td>\n",
              "      <td>2018-07-18 10:16:15.511000+00:00</td>\n",
              "      <td>00b84e14-57f6-4319-93d0-f2fcd1f59cbf</td>\n",
              "      <td>aftu</td>\n",
              "      <td>71</td>\n",
              "    </tr>\n",
              "    <tr>\n",
              "      <th>4</th>\n",
              "      <td>14.76895</td>\n",
              "      <td>-17.319019</td>\n",
              "      <td>0.0</td>\n",
              "      <td>2018-07-18 10:11:05.566000+00:00</td>\n",
              "      <td>00b84e14-57f6-4319-93d0-f2fcd1f59cbf</td>\n",
              "      <td>aftu</td>\n",
              "      <td>71</td>\n",
              "      <td>14.748194</td>\n",
              "      <td>-17.325570</td>\n",
              "      <td>0.0</td>\n",
              "      <td>2018-07-18 10:18:05.636000+00:00</td>\n",
              "      <td>00b84e14-57f6-4319-93d0-f2fcd1f59cbf</td>\n",
              "      <td>aftu</td>\n",
              "      <td>71</td>\n",
              "    </tr>\n",
              "  </tbody>\n",
              "</table>\n",
              "</div>"
            ],
            "text/plain": [
              "   latitude_x  longitude_x  ...  company_y line_y\n",
              "0    14.76895   -17.319019  ...       aftu     71\n",
              "1    14.76895   -17.319019  ...       aftu     71\n",
              "2    14.76895   -17.319019  ...       aftu     71\n",
              "3    14.76895   -17.319019  ...       aftu     71\n",
              "4    14.76895   -17.319019  ...       aftu     71\n",
              "\n",
              "[5 rows x 14 columns]"
            ]
          },
          "metadata": {
            "tags": []
          },
          "execution_count": 34
        }
      ]
    },
    {
      "cell_type": "markdown",
      "metadata": {
        "id": "pPhKGr8SIP7o",
        "colab_type": "text"
      },
      "source": [
        "***Normaliser les nouvelles colonnes***"
      ]
    },
    {
      "cell_type": "code",
      "metadata": {
        "id": "XznKsg1XIbTM",
        "colab_type": "code",
        "outputId": "8f7924d9-449d-4666-e873-e9ab44a18e77",
        "colab": {
          "base_uri": "https://localhost:8080/",
          "height": 479
        }
      },
      "source": [
        "columns = {'latitude_x':'pickup_lat','longitude_x':'pickup_long','speed_x':'speed','datetime_x':'pickup_datetime','trackingId_x':'trackingId',\n",
        "            'company_x':'company','line_x':'line','latitude_y':'dropoff_lat','longitude_y':'dropoff_long','datetime_y':'dropoff_datetime'}\n",
        "dataset.rename(columns=columns, inplace=True)\n",
        "dataset.head()"
      ],
      "execution_count": 35,
      "outputs": [
        {
          "output_type": "execute_result",
          "data": {
            "text/html": [
              "<div>\n",
              "<style scoped>\n",
              "    .dataframe tbody tr th:only-of-type {\n",
              "        vertical-align: middle;\n",
              "    }\n",
              "\n",
              "    .dataframe tbody tr th {\n",
              "        vertical-align: top;\n",
              "    }\n",
              "\n",
              "    .dataframe thead th {\n",
              "        text-align: right;\n",
              "    }\n",
              "</style>\n",
              "<table border=\"1\" class=\"dataframe\">\n",
              "  <thead>\n",
              "    <tr style=\"text-align: right;\">\n",
              "      <th></th>\n",
              "      <th>pickup_lat</th>\n",
              "      <th>pickup_long</th>\n",
              "      <th>speed</th>\n",
              "      <th>pickup_datetime</th>\n",
              "      <th>trackingId</th>\n",
              "      <th>company</th>\n",
              "      <th>line</th>\n",
              "      <th>dropoff_lat</th>\n",
              "      <th>dropoff_long</th>\n",
              "      <th>speed_y</th>\n",
              "      <th>dropoff_datetime</th>\n",
              "      <th>trackingId_y</th>\n",
              "      <th>company_y</th>\n",
              "      <th>line_y</th>\n",
              "    </tr>\n",
              "  </thead>\n",
              "  <tbody>\n",
              "    <tr>\n",
              "      <th>0</th>\n",
              "      <td>14.76895</td>\n",
              "      <td>-17.319019</td>\n",
              "      <td>0.0</td>\n",
              "      <td>2018-07-18 10:11:05.566000+00:00</td>\n",
              "      <td>00b84e14-57f6-4319-93d0-f2fcd1f59cbf</td>\n",
              "      <td>aftu</td>\n",
              "      <td>71</td>\n",
              "      <td>14.768950</td>\n",
              "      <td>-17.319019</td>\n",
              "      <td>0.0</td>\n",
              "      <td>2018-07-18 10:11:05.566000+00:00</td>\n",
              "      <td>00b84e14-57f6-4319-93d0-f2fcd1f59cbf</td>\n",
              "      <td>aftu</td>\n",
              "      <td>71</td>\n",
              "    </tr>\n",
              "    <tr>\n",
              "      <th>1</th>\n",
              "      <td>14.76895</td>\n",
              "      <td>-17.319019</td>\n",
              "      <td>0.0</td>\n",
              "      <td>2018-07-18 10:11:05.566000+00:00</td>\n",
              "      <td>00b84e14-57f6-4319-93d0-f2fcd1f59cbf</td>\n",
              "      <td>aftu</td>\n",
              "      <td>71</td>\n",
              "      <td>14.756368</td>\n",
              "      <td>-17.324461</td>\n",
              "      <td>0.0</td>\n",
              "      <td>2018-07-18 10:12:06.873000+00:00</td>\n",
              "      <td>00b84e14-57f6-4319-93d0-f2fcd1f59cbf</td>\n",
              "      <td>aftu</td>\n",
              "      <td>71</td>\n",
              "    </tr>\n",
              "    <tr>\n",
              "      <th>2</th>\n",
              "      <td>14.76895</td>\n",
              "      <td>-17.319019</td>\n",
              "      <td>0.0</td>\n",
              "      <td>2018-07-18 10:11:05.566000+00:00</td>\n",
              "      <td>00b84e14-57f6-4319-93d0-f2fcd1f59cbf</td>\n",
              "      <td>aftu</td>\n",
              "      <td>71</td>\n",
              "      <td>14.725277</td>\n",
              "      <td>-17.296197</td>\n",
              "      <td>0.0</td>\n",
              "      <td>2018-07-18 10:14:45.083000+00:00</td>\n",
              "      <td>00b84e14-57f6-4319-93d0-f2fcd1f59cbf</td>\n",
              "      <td>aftu</td>\n",
              "      <td>71</td>\n",
              "    </tr>\n",
              "    <tr>\n",
              "      <th>3</th>\n",
              "      <td>14.76895</td>\n",
              "      <td>-17.319019</td>\n",
              "      <td>0.0</td>\n",
              "      <td>2018-07-18 10:11:05.566000+00:00</td>\n",
              "      <td>00b84e14-57f6-4319-93d0-f2fcd1f59cbf</td>\n",
              "      <td>aftu</td>\n",
              "      <td>71</td>\n",
              "      <td>14.748355</td>\n",
              "      <td>-17.325661</td>\n",
              "      <td>0.0</td>\n",
              "      <td>2018-07-18 10:16:15.511000+00:00</td>\n",
              "      <td>00b84e14-57f6-4319-93d0-f2fcd1f59cbf</td>\n",
              "      <td>aftu</td>\n",
              "      <td>71</td>\n",
              "    </tr>\n",
              "    <tr>\n",
              "      <th>4</th>\n",
              "      <td>14.76895</td>\n",
              "      <td>-17.319019</td>\n",
              "      <td>0.0</td>\n",
              "      <td>2018-07-18 10:11:05.566000+00:00</td>\n",
              "      <td>00b84e14-57f6-4319-93d0-f2fcd1f59cbf</td>\n",
              "      <td>aftu</td>\n",
              "      <td>71</td>\n",
              "      <td>14.748194</td>\n",
              "      <td>-17.325570</td>\n",
              "      <td>0.0</td>\n",
              "      <td>2018-07-18 10:18:05.636000+00:00</td>\n",
              "      <td>00b84e14-57f6-4319-93d0-f2fcd1f59cbf</td>\n",
              "      <td>aftu</td>\n",
              "      <td>71</td>\n",
              "    </tr>\n",
              "  </tbody>\n",
              "</table>\n",
              "</div>"
            ],
            "text/plain": [
              "   pickup_lat  pickup_long  ...  company_y line_y\n",
              "0    14.76895   -17.319019  ...       aftu     71\n",
              "1    14.76895   -17.319019  ...       aftu     71\n",
              "2    14.76895   -17.319019  ...       aftu     71\n",
              "3    14.76895   -17.319019  ...       aftu     71\n",
              "4    14.76895   -17.319019  ...       aftu     71\n",
              "\n",
              "[5 rows x 14 columns]"
            ]
          },
          "metadata": {
            "tags": []
          },
          "execution_count": 35
        }
      ]
    },
    {
      "cell_type": "markdown",
      "metadata": {
        "id": "NzUr-XNMKruA",
        "colab_type": "text"
      },
      "source": [
        "***Suppression des colonnes inutiles***"
      ]
    },
    {
      "cell_type": "code",
      "metadata": {
        "id": "Nur9w8XlK2wz",
        "colab_type": "code",
        "outputId": "237384cd-8abd-4d28-ff8c-428a11e96706",
        "colab": {
          "base_uri": "https://localhost:8080/",
          "height": 479
        }
      },
      "source": [
        "columns= ['speed_y','trackingId_y','company_y','line_y']\n",
        "dataset = dataset.drop(columns,axis=1)\n",
        "dataset.head()"
      ],
      "execution_count": 36,
      "outputs": [
        {
          "output_type": "execute_result",
          "data": {
            "text/html": [
              "<div>\n",
              "<style scoped>\n",
              "    .dataframe tbody tr th:only-of-type {\n",
              "        vertical-align: middle;\n",
              "    }\n",
              "\n",
              "    .dataframe tbody tr th {\n",
              "        vertical-align: top;\n",
              "    }\n",
              "\n",
              "    .dataframe thead th {\n",
              "        text-align: right;\n",
              "    }\n",
              "</style>\n",
              "<table border=\"1\" class=\"dataframe\">\n",
              "  <thead>\n",
              "    <tr style=\"text-align: right;\">\n",
              "      <th></th>\n",
              "      <th>pickup_lat</th>\n",
              "      <th>pickup_long</th>\n",
              "      <th>speed</th>\n",
              "      <th>pickup_datetime</th>\n",
              "      <th>trackingId</th>\n",
              "      <th>company</th>\n",
              "      <th>line</th>\n",
              "      <th>dropoff_lat</th>\n",
              "      <th>dropoff_long</th>\n",
              "      <th>dropoff_datetime</th>\n",
              "    </tr>\n",
              "  </thead>\n",
              "  <tbody>\n",
              "    <tr>\n",
              "      <th>0</th>\n",
              "      <td>14.76895</td>\n",
              "      <td>-17.319019</td>\n",
              "      <td>0.0</td>\n",
              "      <td>2018-07-18 10:11:05.566000+00:00</td>\n",
              "      <td>00b84e14-57f6-4319-93d0-f2fcd1f59cbf</td>\n",
              "      <td>aftu</td>\n",
              "      <td>71</td>\n",
              "      <td>14.768950</td>\n",
              "      <td>-17.319019</td>\n",
              "      <td>2018-07-18 10:11:05.566000+00:00</td>\n",
              "    </tr>\n",
              "    <tr>\n",
              "      <th>1</th>\n",
              "      <td>14.76895</td>\n",
              "      <td>-17.319019</td>\n",
              "      <td>0.0</td>\n",
              "      <td>2018-07-18 10:11:05.566000+00:00</td>\n",
              "      <td>00b84e14-57f6-4319-93d0-f2fcd1f59cbf</td>\n",
              "      <td>aftu</td>\n",
              "      <td>71</td>\n",
              "      <td>14.756368</td>\n",
              "      <td>-17.324461</td>\n",
              "      <td>2018-07-18 10:12:06.873000+00:00</td>\n",
              "    </tr>\n",
              "    <tr>\n",
              "      <th>2</th>\n",
              "      <td>14.76895</td>\n",
              "      <td>-17.319019</td>\n",
              "      <td>0.0</td>\n",
              "      <td>2018-07-18 10:11:05.566000+00:00</td>\n",
              "      <td>00b84e14-57f6-4319-93d0-f2fcd1f59cbf</td>\n",
              "      <td>aftu</td>\n",
              "      <td>71</td>\n",
              "      <td>14.725277</td>\n",
              "      <td>-17.296197</td>\n",
              "      <td>2018-07-18 10:14:45.083000+00:00</td>\n",
              "    </tr>\n",
              "    <tr>\n",
              "      <th>3</th>\n",
              "      <td>14.76895</td>\n",
              "      <td>-17.319019</td>\n",
              "      <td>0.0</td>\n",
              "      <td>2018-07-18 10:11:05.566000+00:00</td>\n",
              "      <td>00b84e14-57f6-4319-93d0-f2fcd1f59cbf</td>\n",
              "      <td>aftu</td>\n",
              "      <td>71</td>\n",
              "      <td>14.748355</td>\n",
              "      <td>-17.325661</td>\n",
              "      <td>2018-07-18 10:16:15.511000+00:00</td>\n",
              "    </tr>\n",
              "    <tr>\n",
              "      <th>4</th>\n",
              "      <td>14.76895</td>\n",
              "      <td>-17.319019</td>\n",
              "      <td>0.0</td>\n",
              "      <td>2018-07-18 10:11:05.566000+00:00</td>\n",
              "      <td>00b84e14-57f6-4319-93d0-f2fcd1f59cbf</td>\n",
              "      <td>aftu</td>\n",
              "      <td>71</td>\n",
              "      <td>14.748194</td>\n",
              "      <td>-17.325570</td>\n",
              "      <td>2018-07-18 10:18:05.636000+00:00</td>\n",
              "    </tr>\n",
              "  </tbody>\n",
              "</table>\n",
              "</div>"
            ],
            "text/plain": [
              "   pickup_lat  pickup_long  ...  dropoff_long                 dropoff_datetime\n",
              "0    14.76895   -17.319019  ...    -17.319019 2018-07-18 10:11:05.566000+00:00\n",
              "1    14.76895   -17.319019  ...    -17.324461 2018-07-18 10:12:06.873000+00:00\n",
              "2    14.76895   -17.319019  ...    -17.296197 2018-07-18 10:14:45.083000+00:00\n",
              "3    14.76895   -17.319019  ...    -17.325661 2018-07-18 10:16:15.511000+00:00\n",
              "4    14.76895   -17.319019  ...    -17.325570 2018-07-18 10:18:05.636000+00:00\n",
              "\n",
              "[5 rows x 10 columns]"
            ]
          },
          "metadata": {
            "tags": []
          },
          "execution_count": 36
        }
      ]
    },
    {
      "cell_type": "markdown",
      "metadata": {
        "id": "aF0Dnxn_MeFd",
        "colab_type": "text"
      },
      "source": [
        "***Vérifions si on a pas de Null values dans le jeu de données***"
      ]
    },
    {
      "cell_type": "code",
      "metadata": {
        "id": "94Nht-36MIQs",
        "colab_type": "code",
        "outputId": "06d061fa-7a50-4b0c-db80-55f477dc44bd",
        "colab": {
          "base_uri": "https://localhost:8080/",
          "height": 204
        }
      },
      "source": [
        "dataset.isnull().sum()"
      ],
      "execution_count": 37,
      "outputs": [
        {
          "output_type": "execute_result",
          "data": {
            "text/plain": [
              "pickup_lat          0\n",
              "pickup_long         0\n",
              "speed               0\n",
              "pickup_datetime     0\n",
              "trackingId          0\n",
              "company             0\n",
              "line                0\n",
              "dropoff_lat         0\n",
              "dropoff_long        0\n",
              "dropoff_datetime    0\n",
              "dtype: int64"
            ]
          },
          "metadata": {
            "tags": []
          },
          "execution_count": 37
        }
      ]
    },
    {
      "cell_type": "markdown",
      "metadata": {
        "id": "IBXmC-X7a7en",
        "colab_type": "text"
      },
      "source": [
        "***Création de nouvelles variables***"
      ]
    },
    {
      "cell_type": "markdown",
      "metadata": {
        "id": "fgagiPZEbGFN",
        "colab_type": "text"
      },
      "source": [
        "Calcul de la durée du trajet"
      ]
    },
    {
      "cell_type": "code",
      "metadata": {
        "id": "suGijRidbAbM",
        "colab_type": "code",
        "colab": {}
      },
      "source": [
        "dataset['trip_duration'] = (dataset['dropoff_datetime'] - dataset['pickup_datetime']).dt.total_seconds()\n",
        "#filter result by taking only positive records\n",
        "dataset = dataset.query('trip_duration > 0')"
      ],
      "execution_count": 0,
      "outputs": []
    },
    {
      "cell_type": "markdown",
      "metadata": {
        "id": "zYiDfwy4bJ9s",
        "colab_type": "text"
      },
      "source": [
        "Ajout des informations sur la date(heure, mois, weekday etc...)"
      ]
    },
    {
      "cell_type": "code",
      "metadata": {
        "id": "smRrvphQbk2Z",
        "colab_type": "code",
        "colab": {}
      },
      "source": [
        "def add_datepart(df, fldname, drop=True):\n",
        "    fld = df[fldname]\n",
        "    '''if not np.issubdtype(fld.dtypes, np.datetime64):\n",
        "        df[fldname] = fld = pd.to_datetime(fld,infer_datetime_format=True)'''\n",
        "    for n in ('month','day','hour','minute', 'weekday', \n",
        "              'is_month_end', 'is_month_start'):\n",
        "        df[n] = getattr(fld.dt,n)\n",
        "    if drop: df.drop(fldname, axis=1, inplace=True)\n",
        "      \n",
        "add_datepart(dataset,'pickup_datetime',drop=False)"
      ],
      "execution_count": 0,
      "outputs": []
    },
    {
      "cell_type": "code",
      "metadata": {
        "id": "OJlyPHxJdDe6",
        "colab_type": "code",
        "outputId": "53a2ac7b-0520-464a-9f05-b5751de62a71",
        "colab": {
          "base_uri": "https://localhost:8080/",
          "height": 479
        }
      },
      "source": [
        "dataset['is_weekend'] = dataset['weekday']\n",
        "dataset['is_weekend'] = dataset['is_weekend'].map({0:False,1:False,2:False,3:False,4:False,5:True,6:True})\n",
        "dataset.head()"
      ],
      "execution_count": 40,
      "outputs": [
        {
          "output_type": "execute_result",
          "data": {
            "text/html": [
              "<div>\n",
              "<style scoped>\n",
              "    .dataframe tbody tr th:only-of-type {\n",
              "        vertical-align: middle;\n",
              "    }\n",
              "\n",
              "    .dataframe tbody tr th {\n",
              "        vertical-align: top;\n",
              "    }\n",
              "\n",
              "    .dataframe thead th {\n",
              "        text-align: right;\n",
              "    }\n",
              "</style>\n",
              "<table border=\"1\" class=\"dataframe\">\n",
              "  <thead>\n",
              "    <tr style=\"text-align: right;\">\n",
              "      <th></th>\n",
              "      <th>pickup_lat</th>\n",
              "      <th>pickup_long</th>\n",
              "      <th>speed</th>\n",
              "      <th>pickup_datetime</th>\n",
              "      <th>trackingId</th>\n",
              "      <th>company</th>\n",
              "      <th>line</th>\n",
              "      <th>dropoff_lat</th>\n",
              "      <th>dropoff_long</th>\n",
              "      <th>dropoff_datetime</th>\n",
              "      <th>trip_duration</th>\n",
              "      <th>month</th>\n",
              "      <th>day</th>\n",
              "      <th>hour</th>\n",
              "      <th>minute</th>\n",
              "      <th>weekday</th>\n",
              "      <th>is_month_end</th>\n",
              "      <th>is_month_start</th>\n",
              "      <th>is_weekend</th>\n",
              "    </tr>\n",
              "  </thead>\n",
              "  <tbody>\n",
              "    <tr>\n",
              "      <th>1</th>\n",
              "      <td>14.76895</td>\n",
              "      <td>-17.319019</td>\n",
              "      <td>0.0</td>\n",
              "      <td>2018-07-18 10:11:05.566000+00:00</td>\n",
              "      <td>00b84e14-57f6-4319-93d0-f2fcd1f59cbf</td>\n",
              "      <td>aftu</td>\n",
              "      <td>71</td>\n",
              "      <td>14.756368</td>\n",
              "      <td>-17.324461</td>\n",
              "      <td>2018-07-18 10:12:06.873000+00:00</td>\n",
              "      <td>61.307</td>\n",
              "      <td>7</td>\n",
              "      <td>18</td>\n",
              "      <td>10</td>\n",
              "      <td>11</td>\n",
              "      <td>2</td>\n",
              "      <td>False</td>\n",
              "      <td>False</td>\n",
              "      <td>False</td>\n",
              "    </tr>\n",
              "    <tr>\n",
              "      <th>2</th>\n",
              "      <td>14.76895</td>\n",
              "      <td>-17.319019</td>\n",
              "      <td>0.0</td>\n",
              "      <td>2018-07-18 10:11:05.566000+00:00</td>\n",
              "      <td>00b84e14-57f6-4319-93d0-f2fcd1f59cbf</td>\n",
              "      <td>aftu</td>\n",
              "      <td>71</td>\n",
              "      <td>14.725277</td>\n",
              "      <td>-17.296197</td>\n",
              "      <td>2018-07-18 10:14:45.083000+00:00</td>\n",
              "      <td>219.517</td>\n",
              "      <td>7</td>\n",
              "      <td>18</td>\n",
              "      <td>10</td>\n",
              "      <td>11</td>\n",
              "      <td>2</td>\n",
              "      <td>False</td>\n",
              "      <td>False</td>\n",
              "      <td>False</td>\n",
              "    </tr>\n",
              "    <tr>\n",
              "      <th>3</th>\n",
              "      <td>14.76895</td>\n",
              "      <td>-17.319019</td>\n",
              "      <td>0.0</td>\n",
              "      <td>2018-07-18 10:11:05.566000+00:00</td>\n",
              "      <td>00b84e14-57f6-4319-93d0-f2fcd1f59cbf</td>\n",
              "      <td>aftu</td>\n",
              "      <td>71</td>\n",
              "      <td>14.748355</td>\n",
              "      <td>-17.325661</td>\n",
              "      <td>2018-07-18 10:16:15.511000+00:00</td>\n",
              "      <td>309.945</td>\n",
              "      <td>7</td>\n",
              "      <td>18</td>\n",
              "      <td>10</td>\n",
              "      <td>11</td>\n",
              "      <td>2</td>\n",
              "      <td>False</td>\n",
              "      <td>False</td>\n",
              "      <td>False</td>\n",
              "    </tr>\n",
              "    <tr>\n",
              "      <th>4</th>\n",
              "      <td>14.76895</td>\n",
              "      <td>-17.319019</td>\n",
              "      <td>0.0</td>\n",
              "      <td>2018-07-18 10:11:05.566000+00:00</td>\n",
              "      <td>00b84e14-57f6-4319-93d0-f2fcd1f59cbf</td>\n",
              "      <td>aftu</td>\n",
              "      <td>71</td>\n",
              "      <td>14.748194</td>\n",
              "      <td>-17.325570</td>\n",
              "      <td>2018-07-18 10:18:05.636000+00:00</td>\n",
              "      <td>420.070</td>\n",
              "      <td>7</td>\n",
              "      <td>18</td>\n",
              "      <td>10</td>\n",
              "      <td>11</td>\n",
              "      <td>2</td>\n",
              "      <td>False</td>\n",
              "      <td>False</td>\n",
              "      <td>False</td>\n",
              "    </tr>\n",
              "    <tr>\n",
              "      <th>5</th>\n",
              "      <td>14.76895</td>\n",
              "      <td>-17.319019</td>\n",
              "      <td>0.0</td>\n",
              "      <td>2018-07-18 10:11:05.566000+00:00</td>\n",
              "      <td>00b84e14-57f6-4319-93d0-f2fcd1f59cbf</td>\n",
              "      <td>aftu</td>\n",
              "      <td>71</td>\n",
              "      <td>14.750238</td>\n",
              "      <td>-17.345286</td>\n",
              "      <td>2018-07-18 10:21:11.641000+00:00</td>\n",
              "      <td>606.075</td>\n",
              "      <td>7</td>\n",
              "      <td>18</td>\n",
              "      <td>10</td>\n",
              "      <td>11</td>\n",
              "      <td>2</td>\n",
              "      <td>False</td>\n",
              "      <td>False</td>\n",
              "      <td>False</td>\n",
              "    </tr>\n",
              "  </tbody>\n",
              "</table>\n",
              "</div>"
            ],
            "text/plain": [
              "   pickup_lat  pickup_long  speed  ... is_month_end is_month_start is_weekend\n",
              "1    14.76895   -17.319019    0.0  ...        False          False      False\n",
              "2    14.76895   -17.319019    0.0  ...        False          False      False\n",
              "3    14.76895   -17.319019    0.0  ...        False          False      False\n",
              "4    14.76895   -17.319019    0.0  ...        False          False      False\n",
              "5    14.76895   -17.319019    0.0  ...        False          False      False\n",
              "\n",
              "[5 rows x 19 columns]"
            ]
          },
          "metadata": {
            "tags": []
          },
          "execution_count": 40
        }
      ]
    },
    {
      "cell_type": "markdown",
      "metadata": {
        "id": "7iEAlv8wc4l_",
        "colab_type": "text"
      },
      "source": [
        "calcul de la distance"
      ]
    },
    {
      "cell_type": "code",
      "metadata": {
        "id": "KDbVYdmNc3ne",
        "colab_type": "code",
        "colab": {}
      },
      "source": [
        "#create tuple for pickup and dropoff positions\n",
        "dataset.loc[:,'pickup_latlong'] = dataset[['pickup_lat', 'pickup_long']].apply(tuple, axis=1)\n",
        "dataset.loc[:,'dropoff_latlong'] = dataset[['dropoff_lat', 'dropoff_long']].apply(tuple, axis=1)\n",
        "haversine_dist = []\n",
        "for index,rows in dataset.iterrows():\n",
        "  temp = haversine(dataset['pickup_latlong'][index],dataset['dropoff_latlong'][index])\n",
        "  haversine_dist.append(temp)\n",
        "#create the column to store the result  \n",
        "dataset = dataset.assign(haversine_dist=haversine_dist)"
      ],
      "execution_count": 0,
      "outputs": []
    },
    {
      "cell_type": "markdown",
      "metadata": {
        "id": "NEcaJ-g-d5jG",
        "colab_type": "text"
      },
      "source": [
        "**Suppression des colonnes inutiles**"
      ]
    },
    {
      "cell_type": "code",
      "metadata": {
        "id": "_I9q26mJdwW5",
        "colab_type": "code",
        "outputId": "633dba42-fcf6-4d6f-ec47-21cce0111442",
        "colab": {
          "base_uri": "https://localhost:8080/",
          "height": 224
        }
      },
      "source": [
        "dataset = dataset.query('hour < 22 and hour > 6')\n",
        "columns = ['pickup_datetime',\t'trackingId',\t'company','line','dropoff_datetime','pickup_latlong',\t'dropoff_latlong']\n",
        "dataset = dataset.drop(columns=columns,axis=1)\n",
        "dataset.head()"
      ],
      "execution_count": 42,
      "outputs": [
        {
          "output_type": "execute_result",
          "data": {
            "text/html": [
              "<div>\n",
              "<style scoped>\n",
              "    .dataframe tbody tr th:only-of-type {\n",
              "        vertical-align: middle;\n",
              "    }\n",
              "\n",
              "    .dataframe tbody tr th {\n",
              "        vertical-align: top;\n",
              "    }\n",
              "\n",
              "    .dataframe thead th {\n",
              "        text-align: right;\n",
              "    }\n",
              "</style>\n",
              "<table border=\"1\" class=\"dataframe\">\n",
              "  <thead>\n",
              "    <tr style=\"text-align: right;\">\n",
              "      <th></th>\n",
              "      <th>pickup_lat</th>\n",
              "      <th>pickup_long</th>\n",
              "      <th>speed</th>\n",
              "      <th>dropoff_lat</th>\n",
              "      <th>dropoff_long</th>\n",
              "      <th>trip_duration</th>\n",
              "      <th>month</th>\n",
              "      <th>day</th>\n",
              "      <th>hour</th>\n",
              "      <th>minute</th>\n",
              "      <th>weekday</th>\n",
              "      <th>is_month_end</th>\n",
              "      <th>is_month_start</th>\n",
              "      <th>is_weekend</th>\n",
              "      <th>haversine_dist</th>\n",
              "    </tr>\n",
              "  </thead>\n",
              "  <tbody>\n",
              "    <tr>\n",
              "      <th>1</th>\n",
              "      <td>14.76895</td>\n",
              "      <td>-17.319019</td>\n",
              "      <td>0.0</td>\n",
              "      <td>14.756368</td>\n",
              "      <td>-17.324461</td>\n",
              "      <td>61.307</td>\n",
              "      <td>7</td>\n",
              "      <td>18</td>\n",
              "      <td>10</td>\n",
              "      <td>11</td>\n",
              "      <td>2</td>\n",
              "      <td>False</td>\n",
              "      <td>False</td>\n",
              "      <td>False</td>\n",
              "      <td>1.516497</td>\n",
              "    </tr>\n",
              "    <tr>\n",
              "      <th>2</th>\n",
              "      <td>14.76895</td>\n",
              "      <td>-17.319019</td>\n",
              "      <td>0.0</td>\n",
              "      <td>14.725277</td>\n",
              "      <td>-17.296197</td>\n",
              "      <td>219.517</td>\n",
              "      <td>7</td>\n",
              "      <td>18</td>\n",
              "      <td>10</td>\n",
              "      <td>11</td>\n",
              "      <td>2</td>\n",
              "      <td>False</td>\n",
              "      <td>False</td>\n",
              "      <td>False</td>\n",
              "      <td>5.441088</td>\n",
              "    </tr>\n",
              "    <tr>\n",
              "      <th>3</th>\n",
              "      <td>14.76895</td>\n",
              "      <td>-17.319019</td>\n",
              "      <td>0.0</td>\n",
              "      <td>14.748355</td>\n",
              "      <td>-17.325661</td>\n",
              "      <td>309.945</td>\n",
              "      <td>7</td>\n",
              "      <td>18</td>\n",
              "      <td>10</td>\n",
              "      <td>11</td>\n",
              "      <td>2</td>\n",
              "      <td>False</td>\n",
              "      <td>False</td>\n",
              "      <td>False</td>\n",
              "      <td>2.398848</td>\n",
              "    </tr>\n",
              "    <tr>\n",
              "      <th>4</th>\n",
              "      <td>14.76895</td>\n",
              "      <td>-17.319019</td>\n",
              "      <td>0.0</td>\n",
              "      <td>14.748194</td>\n",
              "      <td>-17.325570</td>\n",
              "      <td>420.070</td>\n",
              "      <td>7</td>\n",
              "      <td>18</td>\n",
              "      <td>10</td>\n",
              "      <td>11</td>\n",
              "      <td>2</td>\n",
              "      <td>False</td>\n",
              "      <td>False</td>\n",
              "      <td>False</td>\n",
              "      <td>2.413080</td>\n",
              "    </tr>\n",
              "    <tr>\n",
              "      <th>5</th>\n",
              "      <td>14.76895</td>\n",
              "      <td>-17.319019</td>\n",
              "      <td>0.0</td>\n",
              "      <td>14.750238</td>\n",
              "      <td>-17.345286</td>\n",
              "      <td>606.075</td>\n",
              "      <td>7</td>\n",
              "      <td>18</td>\n",
              "      <td>10</td>\n",
              "      <td>11</td>\n",
              "      <td>2</td>\n",
              "      <td>False</td>\n",
              "      <td>False</td>\n",
              "      <td>False</td>\n",
              "      <td>3.508019</td>\n",
              "    </tr>\n",
              "  </tbody>\n",
              "</table>\n",
              "</div>"
            ],
            "text/plain": [
              "   pickup_lat  pickup_long  speed  ...  is_month_start  is_weekend  haversine_dist\n",
              "1    14.76895   -17.319019    0.0  ...           False       False        1.516497\n",
              "2    14.76895   -17.319019    0.0  ...           False       False        5.441088\n",
              "3    14.76895   -17.319019    0.0  ...           False       False        2.398848\n",
              "4    14.76895   -17.319019    0.0  ...           False       False        2.413080\n",
              "5    14.76895   -17.319019    0.0  ...           False       False        3.508019\n",
              "\n",
              "[5 rows x 15 columns]"
            ]
          },
          "metadata": {
            "tags": []
          },
          "execution_count": 42
        }
      ]
    },
    {
      "cell_type": "markdown",
      "metadata": {
        "id": "1Brg1xj3e0kT",
        "colab_type": "text"
      },
      "source": [
        "***Faisons quelques visualisations***"
      ]
    },
    {
      "cell_type": "code",
      "metadata": {
        "id": "pHSz4mNEi2z1",
        "colab_type": "code",
        "colab": {}
      },
      "source": [
        ""
      ],
      "execution_count": 0,
      "outputs": []
    },
    {
      "cell_type": "code",
      "metadata": {
        "id": "-zK22-4DfNFc",
        "colab_type": "code",
        "outputId": "49043b3d-9930-40e0-e09e-d3687a5acde3",
        "colab": {
          "base_uri": "https://localhost:8080/",
          "height": 333
        }
      },
      "source": [
        "associations(dataset,theil_u=True)"
      ],
      "execution_count": 43,
      "outputs": [
        {
          "output_type": "display_data",
          "data": {
            "image/png": "[encoded data removed]",
            "text/plain": [
              "<Figure size 432x288 with 2 Axes>"
            ]
          },
          "metadata": {
            "tags": []
          }
        }
      ]
    },
    {
      "cell_type": "code",
      "metadata": {
        "id": "MN1jAjjZhd8q",
        "colab_type": "code",
        "outputId": "8eb3fec3-7967-499c-d5f8-7eb4edea4d5b",
        "colab": {
          "base_uri": "https://localhost:8080/",
          "height": 308
        }
      },
      "source": [
        "dataset.loc[:, 'avg_speed_h'] = 1000 * dataset['haversine_dist'] / dataset['trip_duration']\n",
        "fig, ax = plt.subplots(ncols=3, sharey=True)\n",
        "ax[0].plot(dataset.groupby('hour').mean()['avg_speed_h'], 'bo-', lw=2, alpha=0.7)\n",
        "ax[1].plot(dataset.groupby('weekday').mean()['avg_speed_h'], 'go-', lw=2, alpha=0.7)\n",
        "ax[2].plot(dataset.groupby('month').mean()['avg_speed_h'], 'ro-', lw=2, alpha=0.7)\n",
        "ax[0].set_xlabel('Hour of Day')\n",
        "ax[1].set_xlabel('Day of Week')\n",
        "ax[2].set_xlabel('Month of Year')\n",
        "ax[0].set_ylabel('Average Speed')\n",
        "fig.suptitle('Average Traffic Speed by Date-part')\n",
        "plt.show()"
      ],
      "execution_count": 44,
      "outputs": [
        {
          "output_type": "display_data",
          "data": {
            "image/png": "[encoded data removed]",
            "text/plain": [
              "<Figure size 432x288 with 3 Axes>"
            ]
          },
          "metadata": {
            "tags": []
          }
        }
      ]
    },
    {
      "cell_type": "code",
      "metadata": {
        "id": "M1WG1U58iLez",
        "colab_type": "code",
        "outputId": "8739d142-e06e-4b78-fe25-cfe3db1cc28a",
        "colab": {
          "base_uri": "https://localhost:8080/",
          "height": 308
        }
      },
      "source": [
        "fig, ax = plt.subplots(ncols=3, sharey=True)\n",
        "ax[0].plot(dataset.groupby('hour').mean()['trip_duration'], 'bo-', lw=2, alpha=0.7)\n",
        "ax[1].plot(dataset.groupby('weekday').mean()['trip_duration'], 'go-', lw=2, alpha=0.7)\n",
        "ax[2].plot(dataset.groupby('month').mean()['trip_duration'], 'ro-', lw=2, alpha=0.7)\n",
        "ax[0].set_xlabel('Hour of Day')\n",
        "ax[1].set_xlabel('Day of Week')\n",
        "ax[2].set_xlabel('Month of Year')\n",
        "ax[0].set_ylabel('Average trip duration')\n",
        "fig.suptitle('Average Trip duration by Date-part')\n",
        "plt.show()"
      ],
      "execution_count": 45,
      "outputs": [
        {
          "output_type": "display_data",
          "data": {
            "image/png": "[encoded data removed]",
            "text/plain": [
              "<Figure size 432x288 with 3 Axes>"
            ]
          },
          "metadata": {
            "tags": []
          }
        }
      ]
    },
    {
      "cell_type": "markdown",
      "metadata": {
        "id": "H4YCh0DuiVja",
        "colab_type": "text"
      },
      "source": [
        "***Il est temps de mettre en place le modèle***"
      ]
    },
    {
      "cell_type": "markdown",
      "metadata": {
        "id": "FVlOaXv9ieba",
        "colab_type": "text"
      },
      "source": [
        "Subdivisons d'abord le jeu de données"
      ]
    },
    {
      "cell_type": "code",
      "metadata": {
        "id": "RcDMi8-qidLW",
        "colab_type": "code",
        "outputId": "0b4df407-f7d7-40d8-a073-925c29ed45fd",
        "colab": {
          "base_uri": "https://localhost:8080/",
          "height": 119
        }
      },
      "source": [
        "dataset = shuffle(dataset).reset_index(drop=True)\n",
        "dataset  = dataset.drop(columns=['avg_speed_h'],axis=1)\n",
        "X_train, X_test, y_train, y_test = train_test_split(dataset, dataset['trip_duration'], test_size=0.15, random_state=42)\n",
        "X_train, X_valid, y_train, y_valid = train_test_split(X_train, y_train, test_size=0.15, random_state=42)\n",
        "print('Training features Shape:', X_train.shape)\n",
        "print('Training labels Shape:', y_train.shape)\n",
        "print('Validation features Shape:', X_valid.shape)\n",
        "print('Validation labels Shape:', y_valid.shape)\n",
        "print('Testing featuresShape:', X_test.shape)\n",
        "print('Testing labels Shape:', y_test.shape)"
      ],
      "execution_count": 46,
      "outputs": [
        {
          "output_type": "stream",
          "text": [
            "Training features Shape: (85128, 15)\n",
            "Training labels Shape: (85128,)\n",
            "Validation features Shape: (15023, 15)\n",
            "Validation labels Shape: (15023,)\n",
            "Testing featuresShape: (17674, 15)\n",
            "Testing labels Shape: (17674,)\n"
          ],
          "name": "stdout"
        }
      ]
    },
    {
      "cell_type": "markdown",
      "metadata": {
        "id": "c2IJ-B6kjOA1",
        "colab_type": "text"
      },
      "source": [
        "**Création des modèles**"
      ]
    },
    {
      "cell_type": "code",
      "metadata": {
        "id": "ahxeXWr9jbrb",
        "colab_type": "code",
        "colab": {}
      },
      "source": [
        "\n",
        "#labels are the variable that we want to predict\n",
        "train_labels = np.array(y_train)\n",
        "\n",
        "#features represent the predictors also named independant variables\n",
        "train_features = X_train.drop(['trip_duration'],axis=1)\n",
        "\n",
        "#save the features list \n",
        "features_list = list(train_features)\n",
        "\n",
        "#convert to numpy array\n",
        "train_features = np.array(train_features)\n"
      ],
      "execution_count": 0,
      "outputs": []
    },
    {
      "cell_type": "code",
      "metadata": {
        "id": "YrtybyI0jSgb",
        "colab_type": "code",
        "outputId": "91001d89-d76c-46a9-d5c4-bcae1b505fbd",
        "colab": {
          "base_uri": "https://localhost:8080/",
          "height": 292
        }
      },
      "source": [
        "# we will model for both Random Forest,MultiLinear Regression, ExtraTreeRegressor and XGBoost\n",
        "\n",
        "#Set params for XGBoost\n",
        "dtrain = xgb.DMatrix(train_features, label=train_labels)\n",
        "dvalid = xgb.DMatrix(X_valid.drop('trip_duration',axis=1).values)\n",
        "evals = [(dtrain, 'train')]\n",
        "params = {\n",
        "        'min_child_weight': 1, 'eta': 0.11,\n",
        "        'colsample_bytree':0.2,'max_depth': 8,\n",
        "        'subsample': 0.5,'lambda':0.4,\n",
        "        'booster': 'gbtree', 'gamma': 0.6,\n",
        "        'eval_metric':'rmse',\n",
        "        'objective': 'reg:linear','n_estimators':20,\n",
        "        'n_jobs':-1,'base_score':0.5\n",
        "    }\n",
        "\n",
        "#validation features\n",
        "valid_features = X_valid.drop('trip_duration',axis=1)\n",
        "\n",
        "models = []\n",
        "models.append(('MultiLinearRegression', LinearRegression()))\n",
        "models.append(('Random Forest', RandomForestRegressor(n_estimators=20 , min_samples_leaf=25, max_features=0.5, n_jobs=-1)))\n",
        "models.append(('ExtaTreeRegressor', ExtraTreesRegressor(n_estimators=20, bootstrap=True, min_samples_leaf=25, max_features='auto', n_jobs=-1)))\n",
        "models.append(('XGBoost',xgb))\n",
        "\n",
        "results = []\n",
        "names = []\n",
        "for name, model in models:\n",
        " if(name=='XGBoost'):\n",
        "   model= model.train(params=params, dtrain=dtrain, num_boost_round=227,evals=evals, early_stopping_rounds=300,maximize=False,verbose_eval=20)\n",
        "   predictions = model.predict(dvalid)\n",
        " else:\n",
        "    model.fit(train_features,train_labels)\n",
        "    predictions = model.predict(valid_features)\n",
        " result = r2_score(y_valid,predictions)\n",
        " results.append(result)\n",
        " names.append(name)"
      ],
      "execution_count": 48,
      "outputs": [
        {
          "output_type": "stream",
          "text": [
            "[15:32:42] WARNING: /workspace/src/objective/regression_obj.cu:152: reg:linear is now deprecated in favor of reg:squarederror.\n",
            "[0]\ttrain-rmse:1667.5\n",
            "Will train until train-rmse hasn't improved in 300 rounds.\n",
            "[20]\ttrain-rmse:678.38\n",
            "[40]\ttrain-rmse:524.971\n",
            "[60]\ttrain-rmse:404.467\n",
            "[80]\ttrain-rmse:355.281\n",
            "[100]\ttrain-rmse:318.704\n",
            "[120]\ttrain-rmse:275.045\n",
            "[140]\ttrain-rmse:253.983\n",
            "[160]\ttrain-rmse:239.571\n",
            "[180]\ttrain-rmse:232.096\n",
            "[200]\ttrain-rmse:218.616\n",
            "[220]\ttrain-rmse:210.301\n",
            "[226]\ttrain-rmse:207.074\n"
          ],
          "name": "stdout"
        }
      ]
    },
    {
      "cell_type": "code",
      "metadata": {
        "id": "DkOgYWRjlEdI",
        "colab_type": "code",
        "outputId": "77d4e6c0-c7d6-4e34-d1d4-8455ce793b0e",
        "colab": {
          "base_uri": "https://localhost:8080/",
          "height": 173
        }
      },
      "source": [
        "name = pd.DataFrame(data=names,columns=['Model'],index=[0,1,2,3])\n",
        "score = pd.DataFrame(data=results,columns=['Score'],index=[0,1,2,3])\n",
        "model_score = pd.concat([name,score],axis=1)\n",
        "model_score['Score'] = model_score['Score']*100\n",
        "model_score"
      ],
      "execution_count": 49,
      "outputs": [
        {
          "output_type": "execute_result",
          "data": {
            "text/html": [
              "<div>\n",
              "<style scoped>\n",
              "    .dataframe tbody tr th:only-of-type {\n",
              "        vertical-align: middle;\n",
              "    }\n",
              "\n",
              "    .dataframe tbody tr th {\n",
              "        vertical-align: top;\n",
              "    }\n",
              "\n",
              "    .dataframe thead th {\n",
              "        text-align: right;\n",
              "    }\n",
              "</style>\n",
              "<table border=\"1\" class=\"dataframe\">\n",
              "  <thead>\n",
              "    <tr style=\"text-align: right;\">\n",
              "      <th></th>\n",
              "      <th>Model</th>\n",
              "      <th>Score</th>\n",
              "    </tr>\n",
              "  </thead>\n",
              "  <tbody>\n",
              "    <tr>\n",
              "      <th>0</th>\n",
              "      <td>MultiLinearRegression</td>\n",
              "      <td>71.839785</td>\n",
              "    </tr>\n",
              "    <tr>\n",
              "      <th>1</th>\n",
              "      <td>Random Forest</td>\n",
              "      <td>95.841654</td>\n",
              "    </tr>\n",
              "    <tr>\n",
              "      <th>2</th>\n",
              "      <td>ExtaTreeRegressor</td>\n",
              "      <td>94.187987</td>\n",
              "    </tr>\n",
              "    <tr>\n",
              "      <th>3</th>\n",
              "      <td>XGBoost</td>\n",
              "      <td>96.355407</td>\n",
              "    </tr>\n",
              "  </tbody>\n",
              "</table>\n",
              "</div>"
            ],
            "text/plain": [
              "                   Model      Score\n",
              "0  MultiLinearRegression  71.839785\n",
              "1          Random Forest  95.841654\n",
              "2      ExtaTreeRegressor  94.187987\n",
              "3                XGBoost  96.355407"
            ]
          },
          "metadata": {
            "tags": []
          },
          "execution_count": 49
        }
      ]
    },
    {
      "cell_type": "markdown",
      "metadata": {
        "id": "XeRvhtRDwK0J",
        "colab_type": "text"
      },
      "source": [
        "**Test du model le plus performant (XGBOOST) sur le jeu de données de test**"
      ]
    },
    {
      "cell_type": "code",
      "metadata": {
        "id": "blWgR03txYZE",
        "colab_type": "code",
        "outputId": "10557927-86f3-494e-9731-f84eb1de2c74",
        "colab": {
          "base_uri": "https://localhost:8080/",
          "height": 224
        }
      },
      "source": [
        "X_test.head()"
      ],
      "execution_count": 52,
      "outputs": [
        {
          "output_type": "execute_result",
          "data": {
            "text/html": [
              "<div>\n",
              "<style scoped>\n",
              "    .dataframe tbody tr th:only-of-type {\n",
              "        vertical-align: middle;\n",
              "    }\n",
              "\n",
              "    .dataframe tbody tr th {\n",
              "        vertical-align: top;\n",
              "    }\n",
              "\n",
              "    .dataframe thead th {\n",
              "        text-align: right;\n",
              "    }\n",
              "</style>\n",
              "<table border=\"1\" class=\"dataframe\">\n",
              "  <thead>\n",
              "    <tr style=\"text-align: right;\">\n",
              "      <th></th>\n",
              "      <th>pickup_lat</th>\n",
              "      <th>pickup_long</th>\n",
              "      <th>speed</th>\n",
              "      <th>dropoff_lat</th>\n",
              "      <th>dropoff_long</th>\n",
              "      <th>trip_duration</th>\n",
              "      <th>month</th>\n",
              "      <th>day</th>\n",
              "      <th>hour</th>\n",
              "      <th>minute</th>\n",
              "      <th>weekday</th>\n",
              "      <th>is_month_end</th>\n",
              "      <th>is_month_start</th>\n",
              "      <th>is_weekend</th>\n",
              "      <th>haversine_dist</th>\n",
              "    </tr>\n",
              "  </thead>\n",
              "  <tbody>\n",
              "    <tr>\n",
              "      <th>8396</th>\n",
              "      <td>14.718751</td>\n",
              "      <td>-17.446427</td>\n",
              "      <td>0.0</td>\n",
              "      <td>14.770254</td>\n",
              "      <td>-17.318799</td>\n",
              "      <td>2319.039</td>\n",
              "      <td>11</td>\n",
              "      <td>13</td>\n",
              "      <td>14</td>\n",
              "      <td>7</td>\n",
              "      <td>1</td>\n",
              "      <td>False</td>\n",
              "      <td>False</td>\n",
              "      <td>False</td>\n",
              "      <td>14.871203</td>\n",
              "    </tr>\n",
              "    <tr>\n",
              "      <th>58680</th>\n",
              "      <td>14.746520</td>\n",
              "      <td>-17.377726</td>\n",
              "      <td>0.0</td>\n",
              "      <td>14.713324</td>\n",
              "      <td>-17.460452</td>\n",
              "      <td>1395.350</td>\n",
              "      <td>7</td>\n",
              "      <td>12</td>\n",
              "      <td>7</td>\n",
              "      <td>44</td>\n",
              "      <td>3</td>\n",
              "      <td>False</td>\n",
              "      <td>False</td>\n",
              "      <td>False</td>\n",
              "      <td>9.631840</td>\n",
              "    </tr>\n",
              "    <tr>\n",
              "      <th>8893</th>\n",
              "      <td>14.726447</td>\n",
              "      <td>-17.444321</td>\n",
              "      <td>0.0</td>\n",
              "      <td>14.729647</td>\n",
              "      <td>-17.443101</td>\n",
              "      <td>163.605</td>\n",
              "      <td>9</td>\n",
              "      <td>26</td>\n",
              "      <td>16</td>\n",
              "      <td>20</td>\n",
              "      <td>2</td>\n",
              "      <td>False</td>\n",
              "      <td>False</td>\n",
              "      <td>False</td>\n",
              "      <td>0.379267</td>\n",
              "    </tr>\n",
              "    <tr>\n",
              "      <th>17425</th>\n",
              "      <td>14.771861</td>\n",
              "      <td>-17.317672</td>\n",
              "      <td>0.0</td>\n",
              "      <td>14.725707</td>\n",
              "      <td>-17.444933</td>\n",
              "      <td>3262.394</td>\n",
              "      <td>10</td>\n",
              "      <td>2</td>\n",
              "      <td>16</td>\n",
              "      <td>56</td>\n",
              "      <td>1</td>\n",
              "      <td>False</td>\n",
              "      <td>False</td>\n",
              "      <td>False</td>\n",
              "      <td>14.615237</td>\n",
              "    </tr>\n",
              "    <tr>\n",
              "      <th>116392</th>\n",
              "      <td>14.686050</td>\n",
              "      <td>-17.450347</td>\n",
              "      <td>0.0</td>\n",
              "      <td>14.745747</td>\n",
              "      <td>-17.376590</td>\n",
              "      <td>2647.765</td>\n",
              "      <td>7</td>\n",
              "      <td>6</td>\n",
              "      <td>10</td>\n",
              "      <td>35</td>\n",
              "      <td>4</td>\n",
              "      <td>False</td>\n",
              "      <td>False</td>\n",
              "      <td>False</td>\n",
              "      <td>10.343363</td>\n",
              "    </tr>\n",
              "  </tbody>\n",
              "</table>\n",
              "</div>"
            ],
            "text/plain": [
              "        pickup_lat  pickup_long  ...  is_weekend  haversine_dist\n",
              "8396     14.718751   -17.446427  ...       False       14.871203\n",
              "58680    14.746520   -17.377726  ...       False        9.631840\n",
              "8893     14.726447   -17.444321  ...       False        0.379267\n",
              "17425    14.771861   -17.317672  ...       False       14.615237\n",
              "116392   14.686050   -17.450347  ...       False       10.343363\n",
              "\n",
              "[5 rows x 15 columns]"
            ]
          },
          "metadata": {
            "tags": []
          },
          "execution_count": 52
        }
      ]
    },
    {
      "cell_type": "code",
      "metadata": {
        "id": "8LHcQltNwcl5",
        "colab_type": "code",
        "outputId": "3f228515-99ff-4ef1-d9c5-f86a1268644a",
        "colab": {
          "base_uri": "https://localhost:8080/",
          "height": 80
        }
      },
      "source": [
        "X_test = pd.DataFrame(data=[['14.685400',\t'-17.454020'\t,'1.33416',\t'14.749995',\t'-17.336170',\t'7',\t'06',\t'15',\t'23',\t'5'\t,False,\tFalse\t,True\t,'14.568124']],\n",
        "                      columns=X_valid.drop(['trip_duration'],axis=1).columns)\n",
        "dtest = xgb.DMatrix(X_test.values)\n",
        "predictions = model.predict(dtest)\n",
        "prediction_df = pd.DataFrame(data=predictions,columns=['trip_duration'])\n",
        "prediction_df = prediction_df/60\n",
        "prediction_df.head()"
      ],
      "execution_count": 53,
      "outputs": [
        {
          "output_type": "execute_result",
          "data": {
            "text/html": [
              "<div>\n",
              "<style scoped>\n",
              "    .dataframe tbody tr th:only-of-type {\n",
              "        vertical-align: middle;\n",
              "    }\n",
              "\n",
              "    .dataframe tbody tr th {\n",
              "        vertical-align: top;\n",
              "    }\n",
              "\n",
              "    .dataframe thead th {\n",
              "        text-align: right;\n",
              "    }\n",
              "</style>\n",
              "<table border=\"1\" class=\"dataframe\">\n",
              "  <thead>\n",
              "    <tr style=\"text-align: right;\">\n",
              "      <th></th>\n",
              "      <th>trip_duration</th>\n",
              "    </tr>\n",
              "  </thead>\n",
              "  <tbody>\n",
              "    <tr>\n",
              "      <th>0</th>\n",
              "      <td>75.288445</td>\n",
              "    </tr>\n",
              "  </tbody>\n",
              "</table>\n",
              "</div>"
            ],
            "text/plain": [
              "   trip_duration\n",
              "0      75.288445"
            ]
          },
          "metadata": {
            "tags": []
          },
          "execution_count": 53
        }
      ]
    }
  ]
}